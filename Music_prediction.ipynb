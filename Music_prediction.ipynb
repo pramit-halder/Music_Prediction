{
  "cells": [
    {
      "cell_type": "code",
      "execution_count": null,
      "metadata": {
        "colab": {
          "base_uri": "https://localhost:8080/"
        },
        "id": "DCe1ehxNZ2m2",
        "outputId": "4b319830-de36-4d4b-9323-de78a51a1660"
      },
      "outputs": [
        {
          "name": "stdout",
          "output_type": "stream",
          "text": [
            "75.0\n"
          ]
        }
      ],
      "source": [
        "#Music Prediction\n",
        "import pandas as pd\n",
        "from sklearn.tree import DecisionTreeClassifier\n",
        "from sklearn.model_selection import train_test_split\n",
        "from sklearn.metrics import accuracy_score\n",
        "df = pd.read_csv(\"music.csv\")\n",
        "X = df.drop(columns = [\"genre\"])\n",
        "y = df.drop(columns = [\"age\",\"gender\"])\n",
        "X_train,X_test,y_train,y_test = train_test_split(X,y,test_size = 0.2)\n",
        "model = DecisionTreeClassifier()\n",
        "model.fit(X_train.values,y_train.values)\n",
        "predictions  = model.predict(X_test.values)\n",
        "acc = accuracy_score(y_test,predictions)\n",
        "print(acc*100)"
      ]
    }
  ],
  "metadata": {
    "colab": {
      "provenance": []
    },
    "kernelspec": {
      "display_name": "Python 3",
      "name": "python3"
    },
    "language_info": {
      "name": "python"
    }
  },
  "nbformat": 4,
  "nbformat_minor": 0
}
